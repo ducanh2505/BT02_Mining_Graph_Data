{
 "cells": [
  {
   "cell_type": "markdown",
   "metadata": {
    "Collapsed": "false"
   },
   "source": [
    "# BT01: Tìm hiểu thư viện NetworkX\n",
    "\n",
    "Họ tên: Đào Đức Anh\n",
    "\n",
    "MSSV: 1712270"
   ]
  },
  {
   "attachments": {
    "image.png": {
     "image/png": "[encoded data removed]"
    }
   },
   "cell_type": "markdown",
   "metadata": {},
   "source": [
    "![image.png](attachment:image.png)"
   ]
  },
  {
   "cell_type": "markdown",
   "metadata": {},
   "source": [
    "# NetworkX\n",
    "</br>NetworkX là một package Python cho việc tạo, thao tác và nghiên cứu về cấu trúc, dynamics và chức năng của mạng phức tạp (Đồ thị thực)\n",
    "\n"
   ]
  },
  {
   "cell_type": "markdown",
   "metadata": {},
   "source": [
    "\n",
    "- Cấu trúc dữ liệu cho các đồ thị, đồ thị có hướng và đa đồ thị\n",
    "- Nhiều thuật toán đồ thị cơ bản\n",
    "- Cấu trúc mạng và phân tích độ đo\n",
    "- Generator cho đồ thị cơ bản, đồ thị ngẫu nhiên và mạng tổng hợp\n",
    "- Các Node có thể là bất cứ thứ gì (ví dụ: text, ảnh, bản ghi XML,...)\n",
    "- Cạnh có thể lưu trữ dữ liệu bất kỳ (ví dụ: trọng số, time-serries,...)\n",
    "- Open source 3-clause BSD license\n",
    "- Có các lợi ích từ Python như khai báo đơn giản, dễ tìm hiểu và multi-platform"
   ]
  },
  {
   "cell_type": "markdown",
   "metadata": {},
   "source": [
    "## Cài Đặt Network X\n",
    "NetworkX yêu cầu có môi trường python 3.6, 3.7 hoặc 3.8\n",
    "<br> Đầu tiên, ta phải đảm bảo có phiên bản mới nhất của pip đã được cài đặt.\n",
    "\n"
   ]
  },
  {
   "cell_type": "code",
   "execution_count": 1,
   "metadata": {},
   "outputs": [
    {
     "name": "stdout",
     "output_type": "stream",
     "text": [
      "Collecting pip\n",
      "  Downloading pip-20.2.4-py2.py3-none-any.whl (1.5 MB)\n",
      "Installing collected packages: pip\n",
      "  Attempting uninstall: pip\n",
      "    Found existing installation: pip 20.2.3\n",
      "    Uninstalling pip-20.2.3:\n",
      "      Successfully uninstalled pip-20.2.3\n"
     ]
    },
    {
     "name": "stderr",
     "output_type": "stream",
     "text": [
      "ERROR: Could not install packages due to an EnvironmentError: [WinError 5] Access is denied: 'C:\\\\Users\\\\Admin\\\\AppData\\\\Local\\\\Temp\\\\pip-uninstall-u59o9239\\\\pip.exe'\n",
      "Consider using the `--user` option or check the permissions.\n",
      "\n"
     ]
    },
    {
     "name": "stdout",
     "output_type": "stream",
     "text": [
      "Requirement already satisfied: networkx in c:\\users\\admin\\anaconda3\\lib\\site-packages (2.4)\n",
      "Requirement already satisfied: decorator>=4.3.0 in c:\\users\\admin\\anaconda3\\lib\\site-packages (from networkx) (4.4.1)\n"
     ]
    }
   ],
   "source": [
    "! pip install --upgrade pip\n",
    "! pip install networkx\n"
   ]
  },
  {
   "cell_type": "code",
   "execution_count": 2,
   "metadata": {},
   "outputs": [],
   "source": [
    "import networkx as nx\n"
   ]
  },
  {
   "cell_type": "markdown",
   "metadata": {},
   "source": [
    "## Khởi tạo Đồ thị\n",
    "<br> Khởi tạo một Graph chưa có cạnh và đỉnh nào\n"
   ]
  },
  {
   "cell_type": "code",
   "execution_count": 3,
   "metadata": {},
   "outputs": [],
   "source": [
    "G = nx.Graph()"
   ]
  },
  {
   "cell_type": "markdown",
   "metadata": {},
   "source": [
    "\n",
    "Theo định nghĩa, một đồ thị là 1 tập hợp các node với các thuộc tính giữa 2 cặp đỉnh bất kỳ. Trong NetworkX, các nodes có thể là bất kỳ hashable object ví dụ như một chuỗi văn bản, một hình ảnh, một đối tượng XML, hoặc một đồ thị khác, hay là một đối tượng đỉnh được tự định nghĩa, vv..."
   ]
  },
  {
   "cell_type": "markdown",
   "metadata": {},
   "source": [
    "## nodes\n",
    "\n",
    "Đồ thị ```G``` có thể được xây dựng bằng nhiều cách. NetworkX bao gồm nhiều hàm generator cho đồ thị và hỗ trợ đọc và ghi đồ thị trong nhiều format. Dễ dàng ta có thể thêm từng node vào đồ thị như sau:"
   ]
  },
  {
   "cell_type": "code",
   "execution_count": 4,
   "metadata": {},
   "outputs": [],
   "source": [
    "G.add_node(1)"
   ]
  },
  {
   "cell_type": "markdown",
   "metadata": {},
   "source": [
    "hoặc thêm từ bất kỳ iterable container ví dụ như list\n"
   ]
  },
  {
   "cell_type": "code",
   "execution_count": 5,
   "metadata": {},
   "outputs": [],
   "source": [
    "G.add_nodes_from([2, 3])"
   ]
  },
  {
   "cell_type": "markdown",
   "metadata": {},
   "source": [
    "Ta cũng có thể thêm các node cùng với các thuộc tính của node nếu container trả về 2-tuples theo mẫu ```(node,node_attribute_dict)```"
   ]
  },
  {
   "cell_type": "code",
   "execution_count": 6,
   "metadata": {},
   "outputs": [],
   "source": [
    "G.add_nodes_from([\n",
    "    (4, {\"color\": \"red\"}),\n",
    "    (5, {\"color\": \"green\"}),\n",
    "])"
   ]
  },
  {
   "cell_type": "markdown",
   "metadata": {},
   "source": [
    "\n",
    "Các thông tin thêm về các thuộc tính của các đỉnh được thảo luận ở [đây](https://networkx.github.io/documentation/stable/tutorial.html#attributes)"
   ]
  },
  {
   "cell_type": "markdown",
   "metadata": {},
   "source": [
    "\n",
    "Đỉnh từ một đồ thị có thể được kết hợp cùng với nhau:"
   ]
  },
  {
   "cell_type": "code",
   "execution_count": 7,
   "metadata": {},
   "outputs": [],
   "source": [
    "H = nx.path_graph(10)\n",
    "G.add_nodes_from(H)"
   ]
  },
  {
   "cell_type": "markdown",
   "metadata": {},
   "source": [
    "\n",
    "```G``` bây giờ chứa các node của H như là node của G. Trong khi đó ta có thể sử dụng đồ thị H như là một Node trong ```G```"
   ]
  },
  {
   "cell_type": "code",
   "execution_count": 8,
   "metadata": {},
   "outputs": [],
   "source": [
    "G.add_node(H)"
   ]
  },
  {
   "cell_type": "markdown",
   "metadata": {},
   "source": [
    "\n",
    "Đồ thị `G` bây giờ chứa `H` như là 1 đỉnh. Khả năng flexible này thì rất mạnh mẽ vì nó cho phép các đồ thị của đồ thị, đồ thị của các file, đồ thị của các hàm và hơn nữa. Nó còn thực sự mạnh mẽ khi suy nghĩ làm thế nào để cấu trúc ứng dụng của chúng ta do đó các đỉnh của ta có thể là các đối tượng có ý nghĩa đặc biệt riêng cho từng ngữ cảnh của bài toán."
   ]
  },
  {
   "cell_type": "markdown",
   "metadata": {},
   "source": [
    "## Edges\n",
    "`G` có thể còn được thêm vào đồ thị bằng cách thêm các một cạnh một lúc."
   ]
  },
  {
   "cell_type": "code",
   "execution_count": 9,
   "metadata": {},
   "outputs": [],
   "source": [
    "G.add_edge(1, 2)\n",
    "e = (2, 3)\n",
    "G.add_edge(*e) "
   ]
  },
  {
   "cell_type": "markdown",
   "metadata": {},
   "source": [
    "\n",
    "\n",
    "hay bằng cách t thêm 1 list các cạnh"
   ]
  },
  {
   "cell_type": "code",
   "execution_count": 10,
   "metadata": {},
   "outputs": [],
   "source": [
    "G.add_edges_from([(1, 2), (1, 3)])"
   ]
  },
  {
   "cell_type": "markdown",
   "metadata": {},
   "source": [
    "\n",
    "hoặc thêm bất kỳ ebunch các cạnh. Một ebunch là bất kỳ iterable container của các tuple cạnh. một tuple cạnh có thể là 2-tuple của đỉnh hoặc 3-tuple với 2 đỉnh theo sau là các từ điển thuộc tính của cạnh ví dụ  `(2, 3, {'weight': 3.1415})`"
   ]
  },
  {
   "cell_type": "code",
   "execution_count": 11,
   "metadata": {},
   "outputs": [],
   "source": [
    "G.add_edges_from([(2, 3, {'weight': 3.1415})])"
   ]
  },
  {
   "cell_type": "markdown",
   "metadata": {},
   "source": [
    "Hoặc ta cũng có thể thêm các cạnh từ một đồ thị trước đó"
   ]
  },
  {
   "cell_type": "code",
   "execution_count": 12,
   "metadata": {},
   "outputs": [],
   "source": [
    "G.add_edges_from(H.edges)"
   ]
  },
  {
   "cell_type": "markdown",
   "metadata": {},
   "source": [
    "Không có sự trùng lặp khi ta thêm một đỉnh hay cạnh trước đó. Ví dụ ta sẽ xóa hết các cạnh và đỉnh và hiện tại"
   ]
  },
  {
   "cell_type": "code",
   "execution_count": 13,
   "metadata": {},
   "outputs": [],
   "source": [
    "G.clear()"
   ]
  },
  {
   "cell_type": "markdown",
   "metadata": {},
   "source": [
    "Ta thêm một vài đỉnh và cạnh và NetworkX đơn giản bỏ qua bất kỳ đỉnh và cạnh đã có mặt trong đồ thị"
   ]
  },
  {
   "cell_type": "code",
   "execution_count": 14,
   "metadata": {},
   "outputs": [],
   "source": [
    "G.add_edges_from([(1, 2), (1, 3)])\n",
    "G.add_node(1)\n",
    "G.add_edge(1, 2)\n",
    "G.add_node(\"spam\")        # adds node \"spam\"\n",
    "G.add_nodes_from(\"spam\")  # adds 4 nodes: 's', 'p', 'a', 'm'\n",
    "G.add_edge(3, 'm')"
   ]
  },
  {
   "cell_type": "code",
   "execution_count": 15,
   "metadata": {},
   "outputs": [
    {
     "name": "stdout",
     "output_type": "stream",
     "text": [
      "num of nodes:  8\n",
      "num of edges:  3\n"
     ]
    }
   ],
   "source": [
    "print('num of nodes: ',G.number_of_nodes())\n",
    "\n",
    "print('num of edges: ',G.number_of_edges())"
   ]
  },
  {
   "cell_type": "markdown",
   "metadata": {},
   "source": [
    "## Truy xuất càng phần tử của đồ thị\n",
    "\n",
    "Ta có thể kiểm tra các đỉnh và các cạnh hiện có trong đồ thi.4 thuộc tính cơ bản để kiểm tra các đồ thị: `G.nodes`, `G.edges`, `G.adj` và `G.degree`. Có một vài  khung hình của các đỉnh và cạnh, các đỉnh kề và bậc của các đỉnh trong đồ thị. Nó cho phép liên tục được cập nhật vào khung hình read-only vào cấu trúc đồ thị. Nó cũng có dict-like trong đó mà ta có thể tra cứu dự liệu về thuộc tính của đỉnh và cạnh thông qua các khung hình và lặp với việc sử dụng phước thức `.item()`, `.data('span')`. "
   ]
  },
  {
   "cell_type": "code",
   "execution_count": 16,
   "metadata": {},
   "outputs": [
    {
     "data": {
      "text/plain": [
       "[1, 2, 3, 'spam', 's', 'p', 'a', 'm']"
      ]
     },
     "execution_count": 16,
     "metadata": {},
     "output_type": "execute_result"
    }
   ],
   "source": [
    "list(G.nodes)"
   ]
  },
  {
   "cell_type": "code",
   "execution_count": 17,
   "metadata": {},
   "outputs": [
    {
     "data": {
      "text/plain": [
       "[(1, 2), (1, 3), (3, 'm')]"
      ]
     },
     "execution_count": 17,
     "metadata": {},
     "output_type": "execute_result"
    }
   ],
   "source": [
    "list(G.edges)"
   ]
  },
  {
   "cell_type": "code",
   "execution_count": 18,
   "metadata": {},
   "outputs": [
    {
     "data": {
      "text/plain": [
       "[2, 3]"
      ]
     },
     "execution_count": 18,
     "metadata": {},
     "output_type": "execute_result"
    }
   ],
   "source": [
    "list(G.adj[1])  # or list(G.neighbors(1))"
   ]
  },
  {
   "cell_type": "code",
   "execution_count": 19,
   "metadata": {},
   "outputs": [
    {
     "data": {
      "text/plain": [
       "2"
      ]
     },
     "execution_count": 19,
     "metadata": {},
     "output_type": "execute_result"
    }
   ],
   "source": [
    "\n",
    "G.degree[1] "
   ]
  },
  {
   "cell_type": "markdown",
   "metadata": {},
   "source": [
    "\n",
    "một cách khác ta có thể kiểm tra bậc và các cạnh của từ một tập của các đỉnh sử dụng một nbunch. một nbunch là một trong những: None (có nghĩa là tất cả các đỉnh), một đỉnh, hoặc một iterable container hoặc các đỉnh mà là không phải một node trong một đồ thị."
   ]
  },
  {
   "cell_type": "code",
   "execution_count": 20,
   "metadata": {},
   "outputs": [
    {
     "data": {
      "text/plain": [
       "EdgeDataView([(2, 1), ('m', 3)])"
      ]
     },
     "execution_count": 20,
     "metadata": {},
     "output_type": "execute_result"
    }
   ],
   "source": [
    "G.edges([2, 'm'])"
   ]
  },
  {
   "cell_type": "code",
   "execution_count": 21,
   "metadata": {},
   "outputs": [
    {
     "data": {
      "text/plain": [
       "DegreeView({2: 1, 3: 2})"
      ]
     },
     "execution_count": 21,
     "metadata": {},
     "output_type": "execute_result"
    }
   ],
   "source": [
    "G.degree([2, 3])\n"
   ]
  },
  {
   "cell_type": "markdown",
   "metadata": {},
   "source": [
    "## Xóa các phần tử khỏi đồ thị\n",
    "\n",
    "Ta có thể xóa các đỉnh và các cạnh từ đồ thị tương tự như việc thêm vào đồ thị. sử dụng phương thức `Graph.remove_node()`, `Graph.remove_nodes_from()`, `Graph.remove_edge()` và `graph.remove_edges_from()`."
   ]
  },
  {
   "cell_type": "code",
   "execution_count": 22,
   "metadata": {},
   "outputs": [
    {
     "name": "stdout",
     "output_type": "stream",
     "text": [
      "[1, 3, 'spam']\n"
     ]
    }
   ],
   "source": [
    "G.remove_node(2)\n",
    "G.remove_nodes_from(\"spam\")\n",
    "print(list(G.nodes))\n",
    "\n",
    "G.remove_edge(1, 3)"
   ]
  },
  {
   "cell_type": "markdown",
   "metadata": {},
   "source": [
    "## Sử dụng contructor cho đồ thị\n",
    "Đối tượng đồ thị không có built up từng bước - dữ liệu định nghĩa cấu trúc đồ thị có thể được truyền một cách trực tiếp vào contructors của các lớp đồ thị. Khi khởi tạo một đồ thị bằng các khai báo một trong những lớp đồ thị bạn có thể định nghĩa dữ liệu trong một vài format. "
   ]
  },
  {
   "cell_type": "code",
   "execution_count": 23,
   "metadata": {},
   "outputs": [
    {
     "data": {
      "text/plain": [
       "[(1, 2), (2, 1)]"
      ]
     },
     "execution_count": 23,
     "metadata": {},
     "output_type": "execute_result"
    }
   ],
   "source": [
    "G.add_edge(1, 2)\n",
    "H = nx.DiGraph(G)  # Khởi tạo một đồ thị có hướng từ đồ thị G\n",
    "list(H.edges())\n",
    "\n"
   ]
  },
  {
   "cell_type": "code",
   "execution_count": 24,
   "metadata": {},
   "outputs": [
    {
     "data": {
      "text/plain": [
       "[(0, 1), (1, 2), (2, 3)]"
      ]
     },
     "execution_count": 24,
     "metadata": {},
     "output_type": "execute_result"
    }
   ],
   "source": [
    "edgelist = [(0, 1), (1, 2), (2, 3)]\n",
    "H = nx.Graph(edgelist) # khởi tạo đồ thị từ danh sách các cạnh\n",
    "list(H.edges())\n"
   ]
  },
  {
   "cell_type": "markdown",
   "metadata": {},
   "source": [
    "## Kiểu dữ liệu cho một node hay một cạnh\n",
    "\n",
    "<br> Các đỉnh và các cạnh không phải là một đối tượng đặc trưng như là đối tượng NetworkX. Điều này cho phép ta đươc sử dụng các đối tượng có ý nghĩa cho các đỉnh và các cạnh. Các lựa chọn phổ biến là số hay chuỗi ký tự nhưng các đỉnh có thể là đối tượng hashable (ngoại trừ None) và các một cạnh có thể kết nối với bất kỳ đối tượng `x` bằng các sử dụng `G.add_edges(n1,n2, object =x)`.\n",
    "<br> Như ví dụ trên, `n1, n2` có thể là đối tượng proteein từ Ngân hàng dữ liệu protein RCSB và x có thể được suy diễn như là 1 bản ghi XML của các chi tiết publish của các thí nghiệm\n"
   ]
  },
  {
   "cell_type": "markdown",
   "metadata": {},
   "source": [
    "## Truy xuất thông tin một cạnh hoặc các đỉnh kề\n",
    "\n",
    "Ngoài ra, ở các khung hình `Graph.edges` và `Graph.adj` truy cập đến các cạnh và các đỉnh kề là điều có thể khi sử dụng ký hiệu Ngoặc vuông để truyền index"
   ]
  },
  {
   "cell_type": "code",
   "execution_count": 25,
   "metadata": {},
   "outputs": [],
   "source": [
    "G = nx.Graph([(1, 2, {\"color\": \"yellow\"})])"
   ]
  },
  {
   "cell_type": "code",
   "execution_count": 26,
   "metadata": {},
   "outputs": [
    {
     "data": {
      "text/plain": [
       "AtlasView({2: {'color': 'yellow'}})"
      ]
     },
     "execution_count": 26,
     "metadata": {},
     "output_type": "execute_result"
    }
   ],
   "source": [
    "G[1]  # same as G.adj[1]"
   ]
  },
  {
   "cell_type": "code",
   "execution_count": 27,
   "metadata": {},
   "outputs": [
    {
     "data": {
      "text/plain": [
       "{'color': 'yellow'}"
      ]
     },
     "execution_count": 27,
     "metadata": {},
     "output_type": "execute_result"
    }
   ],
   "source": [
    "G[1][2]"
   ]
  },
  {
   "cell_type": "code",
   "execution_count": 28,
   "metadata": {},
   "outputs": [
    {
     "data": {
      "text/plain": [
       "{'color': 'yellow'}"
      ]
     },
     "execution_count": 28,
     "metadata": {},
     "output_type": "execute_result"
    }
   ],
   "source": [
    "G.edges[1, 2]"
   ]
  },
  {
   "cell_type": "markdown",
   "metadata": {},
   "source": [
    "\n",
    "Ta có thể get/set các thuộc tính của một cạnh khi sử dụng dấu ngoặc vuông nếu cạnh đó đã tồn tại."
   ]
  },
  {
   "cell_type": "code",
   "execution_count": 29,
   "metadata": {},
   "outputs": [],
   "source": [
    "G.add_edge(1, 3)"
   ]
  },
  {
   "cell_type": "code",
   "execution_count": 30,
   "metadata": {},
   "outputs": [],
   "source": [
    "G[1][3]['color'] = \"blue\""
   ]
  },
  {
   "cell_type": "code",
   "execution_count": 31,
   "metadata": {},
   "outputs": [],
   "source": [
    "G.edges[1, 2]['color'] = \"red\""
   ]
  },
  {
   "cell_type": "code",
   "execution_count": 32,
   "metadata": {},
   "outputs": [
    {
     "data": {
      "text/plain": [
       "{'color': 'red'}"
      ]
     },
     "execution_count": 32,
     "metadata": {},
     "output_type": "execute_result"
    }
   ],
   "source": [
    "G.edges[1, 2]"
   ]
  },
  {
   "cell_type": "markdown",
   "metadata": {},
   "source": [
    "\n",
    "Một cách để kiểm tra nhanh tất cả (đỉnh và các đỉnh kề) cặp đó là sử dụng `G.adjacency()` hoặc `G.adj.item()`. Chú ý rằng với đồ thị vô hướng, việc lặp ma trận kề sẽ đi qua các cạnh mỗi cạnh 2 lần."
   ]
  },
  {
   "cell_type": "code",
   "execution_count": 33,
   "metadata": {},
   "outputs": [],
   "source": [
    "FG = nx.Graph()\n",
    "FG.add_weighted_edges_from([(1, 2, 0.125), (1, 3, 0.75), (2, 4, 1.2), (3, 4, 0.375)])"
   ]
  },
  {
   "cell_type": "code",
   "execution_count": 34,
   "metadata": {},
   "outputs": [
    {
     "name": "stdout",
     "output_type": "stream",
     "text": [
      "(1, 2, 0.125)\n",
      "(2, 1, 0.125)\n",
      "(3, 4, 0.375)\n",
      "(4, 3, 0.375)\n"
     ]
    }
   ],
   "source": [
    "\n",
    "for n, nbrs in FG.adj.items():\n",
    "    for nbr, eattr in nbrs.items():\n",
    "        wt = eattr['weight']\n",
    "        if wt < 0.5: print(f\"({n}, {nbr}, {wt:.3})\")"
   ]
  },
  {
   "cell_type": "markdown",
   "metadata": {},
   "source": [
    "\n",
    "một cách thuận tiện cho việc truy xuất đến tất cả các cạnh có được cùng với tính chất của các cạnh"
   ]
  },
  {
   "cell_type": "code",
   "execution_count": 35,
   "metadata": {},
   "outputs": [
    {
     "name": "stdout",
     "output_type": "stream",
     "text": [
      "(1, 2, 0.125)\n",
      "(3, 4, 0.375)\n"
     ]
    }
   ],
   "source": [
    "for (u, v, wt) in FG.edges.data('weight'):\n",
    "    if wt < 0.5:\n",
    "        print(f\"({u}, {v}, {wt:.3})\")"
   ]
  },
  {
   "cell_type": "markdown",
   "metadata": {},
   "source": [
    "## Thêm thuộc tính cho đồ thị, cho node và các cạnh\n",
    "<br> Các thuộc tính như là trọng số, nhãn màu hay bất kỳ đối tượng python nào có thể được đính kèm lên đồ thị, đỉnh hay cạnh.\n",
    "<br> Mỗi đồ thị, đỉnh và cạnh có thể giữ các cặp thuộc tính key/value trong các từ điển thuộc tính kết hợp (các khóa thường hasable). Mặc định thì chúng rỗng, nhưng các thuộc tính có thể được thêm hay thay đổi bằng cách sử dụng `add_edge`, `add_node` hay trực tiếp thao tác của các từ điển thuộc tính được đặt tên `G.named`, `G.nodes`, `G.edges` cho mỗi đồ thị G. \n"
   ]
  },
  {
   "cell_type": "markdown",
   "metadata": {},
   "source": [
    "### Thuộc tính của đồ thị\n",
    "\n",
    "Gán giá trị cho các thuộc tính đồ thị khi khởi tạo một đồ thị"
   ]
  },
  {
   "cell_type": "code",
   "execution_count": 36,
   "metadata": {},
   "outputs": [
    {
     "data": {
      "text/plain": [
       "{'day': 'Friday'}"
      ]
     },
     "execution_count": 36,
     "metadata": {},
     "output_type": "execute_result"
    }
   ],
   "source": [
    "G = nx.Graph(day=\"Friday\")\n",
    "G.graph"
   ]
  },
  {
   "cell_type": "markdown",
   "metadata": {},
   "source": [
    "\n",
    "Hoặc ta có thể thay đổi các thuộc tính này sau"
   ]
  },
  {
   "cell_type": "code",
   "execution_count": 37,
   "metadata": {},
   "outputs": [
    {
     "data": {
      "text/plain": [
       "{'day': 'Monday'}"
      ]
     },
     "execution_count": 37,
     "metadata": {},
     "output_type": "execute_result"
    }
   ],
   "source": [
    "G.graph['day'] = \"Monday\"\n",
    "G.graph"
   ]
  },
  {
   "cell_type": "markdown",
   "metadata": {},
   "source": [
    "### Thuộc tính của node\n",
    "Thêm các thuộc tính cho đỉnh bằng cách sử dụng `add_node()`, `add_node_from()` hoặc `G.nodes`\n"
   ]
  },
  {
   "cell_type": "code",
   "execution_count": 38,
   "metadata": {},
   "outputs": [
    {
     "data": {
      "text/plain": [
       "{'time': '5pm'}"
      ]
     },
     "execution_count": 38,
     "metadata": {},
     "output_type": "execute_result"
    }
   ],
   "source": [
    "G.add_node(1, time='5pm')\n",
    "G.add_nodes_from([3], time='2pm')\n",
    "G.nodes[1]"
   ]
  },
  {
   "cell_type": "code",
   "execution_count": 39,
   "metadata": {},
   "outputs": [
    {
     "data": {
      "text/plain": [
       "NodeDataView({1: {'time': '5pm', 'room': 714}, 3: {'time': '2pm'}})"
      ]
     },
     "execution_count": 39,
     "metadata": {},
     "output_type": "execute_result"
    }
   ],
   "source": [
    "G.nodes[1]['room'] = 714\n",
    "G.nodes.data()"
   ]
  },
  {
   "cell_type": "markdown",
   "metadata": {},
   "source": [
    "\n",
    "Chú ý rằng việc thêm một đỉnh vào `G.nodes` thì không thêm nó vào đồ thị, sử dụng `G.add_node()` để thêm một đỉnh mới. Tưởng tự cho canhk."
   ]
  },
  {
   "cell_type": "markdown",
   "metadata": {},
   "source": [
    "#### Thuộc tính của cạnh\n",
    "Thêm/thay đổi thuộc tính của cạnh bằng cách sử dụng `add_edge()`, `add_edges_from()` hoặc sử dụng truyền index"
   ]
  },
  {
   "cell_type": "code",
   "execution_count": 40,
   "metadata": {},
   "outputs": [],
   "source": [
    "G.add_edge(1, 2, weight=4.7 )\n",
    "G.add_edges_from([(3, 4), (4, 5)], color='red')\n",
    "G.add_edges_from([(1, 2, {'color': 'blue'}), (2, 3, {'weight': 8})])\n",
    "G[1][2]['weight'] = 4.7\n",
    "G.edges[3, 4]['weight'] = 4.2"
   ]
  },
  {
   "cell_type": "markdown",
   "metadata": {},
   "source": [
    "\n",
    "các thuộc tính trọng số đặc biệt nên là số vì nó được sử dụng bởi những thuật toán có yêu cầu trọng số cho các cạnh."
   ]
  },
  {
   "cell_type": "markdown",
   "metadata": {},
   "source": [
    "## Đồ thị có hướng\n",
    "Đồ thị có hướng cung cấp thêm các phương thức và các thuộc tính đặc biệt cho các cạnh có hướng ví dụ: `DiGraph.out_edges`, `DiGraph.in_degree`, `DiGraph.predecessors()`, `Digraph.successors()`,vv.... Để cho phép các thuật toán hoạt động với tất cả các lớp một cách dễ dàng, phiên bản có hướng của `neighbors()`thì tương đồng với succesors(), tổng hợp tổng của in_degree và out_degree cũng tương tự dù rằng đôi khi nó ko nhất quán với nhau.\n"
   ]
  },
  {
   "cell_type": "code",
   "execution_count": 41,
   "metadata": {},
   "outputs": [
    {
     "data": {
      "text/plain": [
       "0.5"
      ]
     },
     "execution_count": 41,
     "metadata": {},
     "output_type": "execute_result"
    }
   ],
   "source": [
    "DG = nx.DiGraph()\n",
    "DG.add_weighted_edges_from([(1, 2, 0.5), (3, 1, 0.75)])\n",
    "DG.out_degree(1, weight='weight')"
   ]
  },
  {
   "cell_type": "code",
   "execution_count": 42,
   "metadata": {},
   "outputs": [
    {
     "data": {
      "text/plain": [
       "1.25"
      ]
     },
     "execution_count": 42,
     "metadata": {},
     "output_type": "execute_result"
    }
   ],
   "source": [
    "DG.degree(1, weight='weight')"
   ]
  },
  {
   "cell_type": "code",
   "execution_count": 43,
   "metadata": {},
   "outputs": [
    {
     "data": {
      "text/plain": [
       "[2]"
      ]
     },
     "execution_count": 43,
     "metadata": {},
     "output_type": "execute_result"
    }
   ],
   "source": [
    "list(DG.successors(1))\n"
   ]
  },
  {
   "cell_type": "code",
   "execution_count": 44,
   "metadata": {},
   "outputs": [
    {
     "data": {
      "text/plain": [
       "[2]"
      ]
     },
     "execution_count": 44,
     "metadata": {},
     "output_type": "execute_result"
    }
   ],
   "source": [
    "list(DG.neighbors(1))"
   ]
  },
  {
   "cell_type": "markdown",
   "metadata": {},
   "source": [
    "\n",
    "Một vài thuật toán chỉ hoạt động với đồ thị có hướng và những loại khác thì không tốt cho đồ thị có hướng. Sự thật thì việc gộp chung đồ thị có hướng và độ thị vô hướng là rất nguy hiểm. Nếu bạn muốn xem một đồ thị có hướng như là một đồ thị vô hướng cho một vài đánh giá thì bạn nên convert nó bằng cách sử dụng `Graph.to_undricted()` hoặc với hàm"
   ]
  },
  {
   "cell_type": "code",
   "execution_count": 45,
   "metadata": {},
   "outputs": [],
   "source": [
    "H = nx.Graph(G) "
   ]
  },
  {
   "cell_type": "markdown",
   "metadata": {},
   "source": [
    "## Đa đò thị\n",
    "\n",
    "NetworkX cung cấp các lớp cho các đồ thị, cho phép nhiều cạnh giữa 2 cặp đỉnh. Lớp Đa đồ thị và đa đồ thị có hướng cho phép ta thêm cùng 1 cạnh 2 lần, có thể với việc thêm dữ liệu cạnh khác nhau. \n"
   ]
  },
  {
   "cell_type": "code",
   "execution_count": 46,
   "metadata": {},
   "outputs": [
    {
     "data": {
      "text/plain": [
       "{1: 1.25, 2: 1.75, 3: 0.5}"
      ]
     },
     "execution_count": 46,
     "metadata": {},
     "output_type": "execute_result"
    }
   ],
   "source": [
    "MG = nx.MultiGraph()\n",
    "MG.add_weighted_edges_from([(1, 2, 0.5), (1, 2, 0.75), (2, 3, 0.5)])\n",
    "dict(MG.degree(weight='weight'))"
   ]
  },
  {
   "cell_type": "code",
   "execution_count": 47,
   "metadata": {},
   "outputs": [],
   "source": [
    "GG = nx.Graph()\n",
    "for n, nbrs in MG.adjacency():\n",
    "   for nbr, edict in nbrs.items():\n",
    "       minvalue = min([d['weight'] for d in edict.values()])\n",
    "       GG.add_edge(n, nbr, weight = minvalue)"
   ]
  },
  {
   "cell_type": "code",
   "execution_count": 48,
   "metadata": {},
   "outputs": [
    {
     "data": {
      "text/plain": [
       "[1, 2, 3]"
      ]
     },
     "execution_count": 48,
     "metadata": {},
     "output_type": "execute_result"
    }
   ],
   "source": [
    "nx.shortest_path(GG, 1, 3)"
   ]
  },
  {
   "attachments": {
    "image.png": {
     "image/png": "[encoded data removed]"
    }
   },
   "cell_type": "markdown",
   "metadata": {},
   "source": [
    "## Graph generators và các phép tính trên đồ thị\n",
    "\n",
    "Thêm vào đó để có thể xây dựng đồ thị Đỉnh- đỉnh hay cạnh - cạnh nó còn có thể được khởi tạo bằng cách áp dụng những operation đồ thị cơ bản như:\n",
    "![image.png](attachment:image.png)"
   ]
  },
  {
   "cell_type": "code",
   "execution_count": 49,
   "metadata": {},
   "outputs": [],
   "source": [
    "K_5 = nx.complete_graph(5)\n",
    "K_3_5 = nx.complete_bipartite_graph(3, 5)\n",
    "barbell = nx.barbell_graph(10, 10)\n",
    "lollipop = nx.lollipop_graph(10, 20)"
   ]
  },
  {
   "cell_type": "markdown",
   "metadata": {},
   "source": [
    "## Phân tích đồ thị \n",
    "\n",
    "Cấu trúc của G có thể được phân tích bằng cách sử dụng các hàm lý thuyết đồ thị như là:"
   ]
  },
  {
   "cell_type": "code",
   "execution_count": 50,
   "metadata": {},
   "outputs": [
    {
     "data": {
      "text/plain": [
       "[{1, 2, 3}, {'spam'}]"
      ]
     },
     "execution_count": 50,
     "metadata": {},
     "output_type": "execute_result"
    }
   ],
   "source": [
    "G = nx.Graph()\n",
    "G.add_edges_from([(1, 2), (1, 3)])\n",
    "G.add_node(\"spam\")       # adds node \"spam\"\n",
    "list(nx.connected_components(G))"
   ]
  },
  {
   "cell_type": "code",
   "execution_count": 51,
   "metadata": {},
   "outputs": [
    {
     "data": {
      "text/plain": [
       "[0, 1, 1, 2]"
      ]
     },
     "execution_count": 51,
     "metadata": {},
     "output_type": "execute_result"
    }
   ],
   "source": [
    "sorted(d for n, d in G.degree())"
   ]
  },
  {
   "cell_type": "code",
   "execution_count": 52,
   "metadata": {},
   "outputs": [
    {
     "data": {
      "text/plain": [
       "{1: 0, 2: 0, 3: 0, 'spam': 0}"
      ]
     },
     "execution_count": 52,
     "metadata": {},
     "output_type": "execute_result"
    }
   ],
   "source": [
    "nx.clustering(G)"
   ]
  },
  {
   "cell_type": "markdown",
   "metadata": {},
   "source": [
    "\n",
    "Một vài hàm với output lớn lặp qua các node, value 2-tuple. Những giá trị này dễ dàng được lưu trữ trong cấu trúc từ điển nếu bạn thích,"
   ]
  },
  {
   "cell_type": "code",
   "execution_count": 53,
   "metadata": {},
   "outputs": [
    {
     "data": {
      "text/plain": [
       "{3: [3], 1: [3, 1], 2: [3, 1, 2]}"
      ]
     },
     "execution_count": 53,
     "metadata": {},
     "output_type": "execute_result"
    }
   ],
   "source": [
    "sp = dict(nx.all_pairs_shortest_path(G))\n",
    "sp[3]"
   ]
  },
  {
   "cell_type": "markdown",
   "metadata": {},
   "source": [
    "## Vẽ đồ thị\n",
    "NetworkX không phải là một package vẽ đồ thị, nhưng cơ bản có thể vẽ bằng matplotlib cũng như là sử dụng  interface opensource Graphviz software package được bao gồm. Đây là một phần của `networkx.drawing module` và sẽ được thêm vào nếu có thể\n",
    "\n",
    "Đầu tiên import Matplotlib plot.\n"
   ]
  },
  {
   "cell_type": "code",
   "execution_count": 54,
   "metadata": {},
   "outputs": [],
   "source": [
    "import matplotlib.pyplot as plt"
   ]
  },
  {
   "cell_type": "markdown",
   "metadata": {},
   "source": [
    "\n",
    "Để kiểm tra nếu import networkx.drawing thành công để vẽ G sử dụng một trong những "
   ]
  },
  {
   "cell_type": "code",
   "execution_count": 55,
   "metadata": {},
   "outputs": [
    {
     "data": {
      "image/png": "[encoded data removed]",
      "text/plain": [
       "<Figure size 432x288 with 2 Axes>"
      ]
     },
     "metadata": {},
     "output_type": "display_data"
    }
   ],
   "source": [
    "G = nx.petersen_graph()\n",
    "plt.subplot(121)\n",
    "nx.draw(G, with_labels=True, font_weight='bold')\n",
    "\n",
    "plt.subplot(122)\n",
    "\n",
    "nx.draw_shell(G, nlist=[range(5, 10), range(5)], with_labels=True, font_weight='bold')"
   ]
  },
  {
   "cell_type": "code",
   "execution_count": null,
   "metadata": {},
   "outputs": [],
   "source": []
  }
 ],
 "metadata": {
  "kernelspec": {
   "display_name": "Python 3",
   "language": "python",
   "name": "python3"
  },
  "language_info": {
   "codemirror_mode": {
    "name": "ipython",
    "version": 3
   },
   "file_extension": ".py",
   "mimetype": "text/x-python",
   "name": "python",
   "nbconvert_exporter": "python",
   "pygments_lexer": "ipython3",
   "version": "3.7.6"
  }
 },
 "nbformat": 4,
 "nbformat_minor": 4
}
