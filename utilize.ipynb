{
  "nbformat": 4,
  "nbformat_minor": 0,
  "metadata": {
    "colab": {
      "name": "utilize.ipynb",
      "provenance": [],
      "collapsed_sections": [
        "v5GWHP00N1TF",
        "5ZS0rOVISkEi",
        "WnTM81TJRoG8"
      ],
      "authorship_tag": "ABX9TyMkSxYcSPbUlOIMzBjB51SW",
      "include_colab_link": true
    },
    "kernelspec": {
      "name": "python3",
      "display_name": "Python 3"
    },
    "widgets": {
      "application/vnd.jupyter.widget-state+json": {
        "766dfffa29b34bcd8f7a94c4d17e4b4f": {
          "model_module": "@jupyter-widgets/controls",
          "model_name": "HBoxModel",
          "state": {
            "_view_name": "HBoxView",
            "_dom_classes": [],
            "_model_name": "HBoxModel",
            "_view_module": "@jupyter-widgets/controls",
            "_model_module_version": "1.5.0",
            "_view_count": null,
            "_view_module_version": "1.5.0",
            "box_style": "",
            "layout": "IPY_MODEL_65e6d6e9110a41aea9a70ca4f9ffd134",
            "_model_module": "@jupyter-widgets/controls",
            "children": [
              "IPY_MODEL_8d420a3ea9d449d580ada1f41973b5ab",
              "IPY_MODEL_e99164a63684460aa02c9eb77fd21b92",
              "IPY_MODEL_e5e92c08386e4117b2e9b7f643d9f577"
            ]
          }
        },
        "65e6d6e9110a41aea9a70ca4f9ffd134": {
          "model_module": "@jupyter-widgets/base",
          "model_name": "LayoutModel",
          "state": {
            "_view_name": "LayoutView",
            "grid_template_rows": null,
            "right": null,
            "justify_content": null,
            "_view_module": "@jupyter-widgets/base",
            "overflow": null,
            "_model_module_version": "1.2.0",
            "_view_count": null,
            "flex_flow": null,
            "width": null,
            "min_width": null,
            "border": null,
            "align_items": null,
            "bottom": null,
            "_model_module": "@jupyter-widgets/base",
            "top": null,
            "grid_column": null,
            "overflow_y": null,
            "overflow_x": null,
            "grid_auto_flow": null,
            "grid_area": null,
            "grid_template_columns": null,
            "flex": null,
            "_model_name": "LayoutModel",
            "justify_items": null,
            "grid_row": null,
            "max_height": null,
            "align_content": null,
            "visibility": null,
            "align_self": null,
            "height": null,
            "min_height": null,
            "padding": null,
            "grid_auto_rows": null,
            "grid_gap": null,
            "max_width": null,
            "order": null,
            "_view_module_version": "1.2.0",
            "grid_template_areas": null,
            "object_position": null,
            "object_fit": null,
            "grid_auto_columns": null,
            "margin": null,
            "display": null,
            "left": null
          }
        },
        "8d420a3ea9d449d580ada1f41973b5ab": {
          "model_module": "@jupyter-widgets/controls",
          "model_name": "HTMLModel",
          "state": {
            "_view_name": "HTMLView",
            "style": "IPY_MODEL_713ad4fa80a5465993e8a67eb10a16d8",
            "_dom_classes": [],
            "description": "",
            "_model_name": "HTMLModel",
            "placeholder": "​",
            "_view_module": "@jupyter-widgets/controls",
            "_model_module_version": "1.5.0",
            "value": "100%",
            "_view_count": null,
            "_view_module_version": "1.5.0",
            "description_tooltip": null,
            "_model_module": "@jupyter-widgets/controls",
            "layout": "IPY_MODEL_c8e1d3b8c534404aa974c61b92e429b9"
          }
        },
        "e99164a63684460aa02c9eb77fd21b92": {
          "model_module": "@jupyter-widgets/controls",
          "model_name": "FloatProgressModel",
          "state": {
            "_view_name": "ProgressView",
            "style": "IPY_MODEL_f499fc56b06d4b66ab56f1fa5a6f589f",
            "_dom_classes": [],
            "description": "",
            "_model_name": "FloatProgressModel",
            "bar_style": "success",
            "max": 102,
            "_view_module": "@jupyter-widgets/controls",
            "_model_module_version": "1.5.0",
            "value": 102,
            "_view_count": null,
            "_view_module_version": "1.5.0",
            "orientation": "horizontal",
            "min": 0,
            "description_tooltip": null,
            "_model_module": "@jupyter-widgets/controls",
            "layout": "IPY_MODEL_0affd3408f864a3c939172195e63c4a4"
          }
        },
        "e5e92c08386e4117b2e9b7f643d9f577": {
          "model_module": "@jupyter-widgets/controls",
          "model_name": "HTMLModel",
          "state": {
            "_view_name": "HTMLView",
            "style": "IPY_MODEL_772548497d694c4bbf353a8c42015cf8",
            "_dom_classes": [],
            "description": "",
            "_model_name": "HTMLModel",
            "placeholder": "​",
            "_view_module": "@jupyter-widgets/controls",
            "_model_module_version": "1.5.0",
            "value": " 102/102 [01:09&lt;00:00,  1.47it/s]",
            "_view_count": null,
            "_view_module_version": "1.5.0",
            "description_tooltip": null,
            "_model_module": "@jupyter-widgets/controls",
            "layout": "IPY_MODEL_3dd6673d4af849a581fd821d5e3e4916"
          }
        },
        "713ad4fa80a5465993e8a67eb10a16d8": {
          "model_module": "@jupyter-widgets/controls",
          "model_name": "DescriptionStyleModel",
          "state": {
            "_view_name": "StyleView",
            "_model_name": "DescriptionStyleModel",
            "description_width": "",
            "_view_module": "@jupyter-widgets/base",
            "_model_module_version": "1.5.0",
            "_view_count": null,
            "_view_module_version": "1.2.0",
            "_model_module": "@jupyter-widgets/controls"
          }
        },
        "c8e1d3b8c534404aa974c61b92e429b9": {
          "model_module": "@jupyter-widgets/base",
          "model_name": "LayoutModel",
          "state": {
            "_view_name": "LayoutView",
            "grid_template_rows": null,
            "right": null,
            "justify_content": null,
            "_view_module": "@jupyter-widgets/base",
            "overflow": null,
            "_model_module_version": "1.2.0",
            "_view_count": null,
            "flex_flow": null,
            "width": null,
            "min_width": null,
            "border": null,
            "align_items": null,
            "bottom": null,
            "_model_module": "@jupyter-widgets/base",
            "top": null,
            "grid_column": null,
            "overflow_y": null,
            "overflow_x": null,
            "grid_auto_flow": null,
            "grid_area": null,
            "grid_template_columns": null,
            "flex": null,
            "_model_name": "LayoutModel",
            "justify_items": null,
            "grid_row": null,
            "max_height": null,
            "align_content": null,
            "visibility": null,
            "align_self": null,
            "height": null,
            "min_height": null,
            "padding": null,
            "grid_auto_rows": null,
            "grid_gap": null,
            "max_width": null,
            "order": null,
            "_view_module_version": "1.2.0",
            "grid_template_areas": null,
            "object_position": null,
            "object_fit": null,
            "grid_auto_columns": null,
            "margin": null,
            "display": null,
            "left": null
          }
        },
        "f499fc56b06d4b66ab56f1fa5a6f589f": {
          "model_module": "@jupyter-widgets/controls",
          "model_name": "ProgressStyleModel",
          "state": {
            "_view_name": "StyleView",
            "_model_name": "ProgressStyleModel",
            "description_width": "",
            "_view_module": "@jupyter-widgets/base",
            "_model_module_version": "1.5.0",
            "_view_count": null,
            "_view_module_version": "1.2.0",
            "bar_color": null,
            "_model_module": "@jupyter-widgets/controls"
          }
        },
        "0affd3408f864a3c939172195e63c4a4": {
          "model_module": "@jupyter-widgets/base",
          "model_name": "LayoutModel",
          "state": {
            "_view_name": "LayoutView",
            "grid_template_rows": null,
            "right": null,
            "justify_content": null,
            "_view_module": "@jupyter-widgets/base",
            "overflow": null,
            "_model_module_version": "1.2.0",
            "_view_count": null,
            "flex_flow": null,
            "width": null,
            "min_width": null,
            "border": null,
            "align_items": null,
            "bottom": null,
            "_model_module": "@jupyter-widgets/base",
            "top": null,
            "grid_column": null,
            "overflow_y": null,
            "overflow_x": null,
            "grid_auto_flow": null,
            "grid_area": null,
            "grid_template_columns": null,
            "flex": null,
            "_model_name": "LayoutModel",
            "justify_items": null,
            "grid_row": null,
            "max_height": null,
            "align_content": null,
            "visibility": null,
            "align_self": null,
            "height": null,
            "min_height": null,
            "padding": null,
            "grid_auto_rows": null,
            "grid_gap": null,
            "max_width": null,
            "order": null,
            "_view_module_version": "1.2.0",
            "grid_template_areas": null,
            "object_position": null,
            "object_fit": null,
            "grid_auto_columns": null,
            "margin": null,
            "display": null,
            "left": null
          }
        },
        "772548497d694c4bbf353a8c42015cf8": {
          "model_module": "@jupyter-widgets/controls",
          "model_name": "DescriptionStyleModel",
          "state": {
            "_view_name": "StyleView",
            "_model_name": "DescriptionStyleModel",
            "description_width": "",
            "_view_module": "@jupyter-widgets/base",
            "_model_module_version": "1.5.0",
            "_view_count": null,
            "_view_module_version": "1.2.0",
            "_model_module": "@jupyter-widgets/controls"
          }
        },
        "3dd6673d4af849a581fd821d5e3e4916": {
          "model_module": "@jupyter-widgets/base",
          "model_name": "LayoutModel",
          "state": {
            "_view_name": "LayoutView",
            "grid_template_rows": null,
            "right": null,
            "justify_content": null,
            "_view_module": "@jupyter-widgets/base",
            "overflow": null,
            "_model_module_version": "1.2.0",
            "_view_count": null,
            "flex_flow": null,
            "width": null,
            "min_width": null,
            "border": null,
            "align_items": null,
            "bottom": null,
            "_model_module": "@jupyter-widgets/base",
            "top": null,
            "grid_column": null,
            "overflow_y": null,
            "overflow_x": null,
            "grid_auto_flow": null,
            "grid_area": null,
            "grid_template_columns": null,
            "flex": null,
            "_model_name": "LayoutModel",
            "justify_items": null,
            "grid_row": null,
            "max_height": null,
            "align_content": null,
            "visibility": null,
            "align_self": null,
            "height": null,
            "min_height": null,
            "padding": null,
            "grid_auto_rows": null,
            "grid_gap": null,
            "max_width": null,
            "order": null,
            "_view_module_version": "1.2.0",
            "grid_template_areas": null,
            "object_position": null,
            "object_fit": null,
            "grid_auto_columns": null,
            "margin": null,
            "display": null,
            "left": null
          }
        }
      }
    }
  },
  "cells": [
    {
      "cell_type": "markdown",
      "metadata": {
        "id": "view-in-github",
        "colab_type": "text"
      },
      "source": [
        "<a href=\"https://colab.research.google.com/github/ducanh2505/BT02_Mining_Graph_Data/blob/main/utilize.ipynb\" target=\"_parent\"><img src=\"https://colab.research.google.com/assets/colab-badge.svg\" alt=\"Open In Colab\"/></a>"
      ]
    },
    {
      "cell_type": "markdown",
      "metadata": {
        "id": "v5GWHP00N1TF"
      },
      "source": [
        "### Install packages"
      ]
    },
    {
      "cell_type": "code",
      "metadata": {
        "colab": {
          "base_uri": "https://localhost:8080/"
        },
        "id": "nGRFrr9yNora",
        "outputId": "41b6ce04-47d7-4204-a837-c7ad47f0d75a"
      },
      "source": [
        "!pip install requests-html"
      ],
      "execution_count": 4,
      "outputs": [
        {
          "output_type": "stream",
          "text": [
            "Requirement already satisfied: requests-html in /usr/local/lib/python3.6/dist-packages (0.10.0)\n",
            "Requirement already satisfied: requests in /usr/local/lib/python3.6/dist-packages (from requests-html) (2.23.0)\n",
            "Requirement already satisfied: bs4 in /usr/local/lib/python3.6/dist-packages (from requests-html) (0.0.1)\n",
            "Requirement already satisfied: w3lib in /usr/local/lib/python3.6/dist-packages (from requests-html) (1.22.0)\n",
            "Requirement already satisfied: parse in /usr/local/lib/python3.6/dist-packages (from requests-html) (1.18.0)\n",
            "Requirement already satisfied: pyquery in /usr/local/lib/python3.6/dist-packages (from requests-html) (1.4.3)\n",
            "Requirement already satisfied: pyppeteer>=0.0.14 in /usr/local/lib/python3.6/dist-packages (from requests-html) (0.2.2)\n",
            "Requirement already satisfied: fake-useragent in /usr/local/lib/python3.6/dist-packages (from requests-html) (0.1.11)\n",
            "Collecting urllib3!=1.25.0,!=1.25.1,<1.26,>=1.21.1\n",
            "\u001b[?25l  Downloading https://files.pythonhosted.org/packages/56/aa/4ef5aa67a9a62505db124a5cb5262332d1d4153462eb8fd89c9fa41e5d92/urllib3-1.25.11-py2.py3-none-any.whl (127kB)\n",
            "\u001b[K     |████████████████████████████████| 133kB 4.8MB/s \n",
            "\u001b[?25hRequirement already satisfied: certifi>=2017.4.17 in /usr/local/lib/python3.6/dist-packages (from requests->requests-html) (2020.12.5)\n",
            "Requirement already satisfied: chardet<4,>=3.0.2 in /usr/local/lib/python3.6/dist-packages (from requests->requests-html) (3.0.4)\n",
            "Requirement already satisfied: idna<3,>=2.5 in /usr/local/lib/python3.6/dist-packages (from requests->requests-html) (2.10)\n",
            "Requirement already satisfied: beautifulsoup4 in /usr/local/lib/python3.6/dist-packages (from bs4->requests-html) (4.6.3)\n",
            "Requirement already satisfied: six>=1.4.1 in /usr/local/lib/python3.6/dist-packages (from w3lib->requests-html) (1.15.0)\n",
            "Requirement already satisfied: lxml>=2.1 in /usr/local/lib/python3.6/dist-packages (from pyquery->requests-html) (4.2.6)\n",
            "Requirement already satisfied: cssselect>0.7.9 in /usr/local/lib/python3.6/dist-packages (from pyquery->requests-html) (1.1.0)\n",
            "Requirement already satisfied: websockets<9.0,>=8.1 in /usr/local/lib/python3.6/dist-packages (from pyppeteer>=0.0.14->requests-html) (8.1)\n",
            "Requirement already satisfied: appdirs<2.0.0,>=1.4.3 in /usr/local/lib/python3.6/dist-packages (from pyppeteer>=0.0.14->requests-html) (1.4.4)\n",
            "Requirement already satisfied: tqdm<5.0.0,>=4.42.1 in /usr/local/lib/python3.6/dist-packages (from pyppeteer>=0.0.14->requests-html) (4.54.1)\n",
            "Requirement already satisfied: pyee<8.0.0,>=7.0.1 in /usr/local/lib/python3.6/dist-packages (from pyppeteer>=0.0.14->requests-html) (7.0.4)\n",
            "\u001b[31mERROR: datascience 0.10.6 has requirement folium==0.2.1, but you'll have folium 0.8.3 which is incompatible.\u001b[0m\n",
            "Installing collected packages: urllib3\n",
            "  Found existing installation: urllib3 1.26.2\n",
            "    Uninstalling urllib3-1.26.2:\n",
            "      Successfully uninstalled urllib3-1.26.2\n",
            "Successfully installed urllib3-1.25.11\n"
          ],
          "name": "stdout"
        }
      ]
    },
    {
      "cell_type": "markdown",
      "metadata": {
        "id": "pkWDKx-kN-Ss"
      },
      "source": [
        "### import packages and define some variables"
      ]
    },
    {
      "cell_type": "code",
      "metadata": {
        "id": "60OtUveyMoqB"
      },
      "source": [
        "\r\n",
        "from requests_html import HTMLSession\r\n",
        "import requests\r\n",
        "import json\r\n",
        "import re\r\n",
        "from bs4 import BeautifulSoup\r\n",
        "from tqdm.notebook import tqdm"
      ],
      "execution_count": 183,
      "outputs": []
    },
    {
      "cell_type": "code",
      "metadata": {
        "id": "KNLvdnA4OMvE"
      },
      "source": [
        "session = HTMLSession()\r\n",
        "home = 'https://gearvn.com'\r\n",
        "url = 'https://gearvn.com/collections/laptop'"
      ],
      "execution_count": 6,
      "outputs": []
    },
    {
      "cell_type": "markdown",
      "metadata": {
        "id": "5ZS0rOVISkEi"
      },
      "source": [
        "### def get_from_page(url,sesion)\r\n",
        "get all links from page"
      ]
    },
    {
      "cell_type": "code",
      "metadata": {
        "id": "57Y_57k3OO4k"
      },
      "source": [
        "def get_from_page(url,session=session):  \r\n",
        "  r = session.get(url)\r\n",
        "  product_row = r.html.find('.product-row')\r\n",
        "  return [home + link.find('a[href]',first=True).attrs['href']\\\r\n",
        "                            for link in product_row]\r\n",
        "a = get_from_page(url)"
      ],
      "execution_count": 7,
      "outputs": []
    },
    {
      "cell_type": "code",
      "metadata": {
        "colab": {
          "base_uri": "https://localhost:8080/"
        },
        "id": "j0m5sxsmO8Nl",
        "outputId": "14434e38-86cb-41c2-f00c-d8afe110b7d7"
      },
      "source": [
        "len(a),a"
      ],
      "execution_count": 8,
      "outputs": [
        {
          "output_type": "execute_result",
          "data": {
            "text/plain": [
              "(20,\n",
              " ['https://gearvn.com/products/laptop-hp-envy-13-ba1028tu-2k0b2pa',\n",
              "  'https://gearvn.com/products/laptop-asus-vivobook-d509da-ej116t-new',\n",
              "  'https://gearvn.com/products/laptop-asus-d409da-ek499t',\n",
              "  'https://gearvn.com/products/laptop-hp-15s-fq1107tu-193q3pa',\n",
              "  'https://gearvn.com/products/laptop-acer-aspire-3-a315-56-37dv',\n",
              "  'https://gearvn.com/products/laptop-asus-x509ja-ej427t',\n",
              "  'https://gearvn.com/products/laptop-asus-a412fa-ek1187t',\n",
              "  'https://gearvn.com/products/laptop-asus-experbook-p1410cja-ek354t',\n",
              "  'https://gearvn.com/products/laptop-acer-aspire-5-a514-54-39ku',\n",
              "  'https://gearvn.com/products/laptop-asus-vivobook-flip-tm420ia-ec155t',\n",
              "  'https://gearvn.com/products/laptop-asus-vivobook-a515ea-bq489t',\n",
              "  'https://gearvn.com/products/laptop-asus-x509ja-ej021t',\n",
              "  'https://gearvn.com/products/laptop-asus-x509jp-ej012t',\n",
              "  'https://gearvn.com/products/laptop-acer-aspire-5-a514-53-38gf',\n",
              "  'https://gearvn.com/products/laptop-asus-vivobook-x409ja-ek014t-silver',\n",
              "  'https://gearvn.com/products/laptop-asus-expertbook-p1410cja-ek355t',\n",
              "  'https://gearvn.com/products/lenovo-thinkbook-14-20rv00b8vn',\n",
              "  'https://gearvn.com/products/laptop-asus-x509jp-ej013t',\n",
              "  'https://gearvn.com/products/laptop-hp-probook-455-g7-1a1a9pa',\n",
              "  'https://gearvn.com/products/laptop-acer-aspire-5-a514-54-51rb'])"
            ]
          },
          "metadata": {
            "tags": []
          },
          "execution_count": 8
        }
      ]
    },
    {
      "cell_type": "markdown",
      "metadata": {
        "id": "WnTM81TJRoG8"
      },
      "source": [
        "### get_from_site()\r\n",
        "scrawl all link from the site"
      ]
    },
    {
      "cell_type": "code",
      "metadata": {
        "id": "hSLM2JlgS4u9"
      },
      "source": [
        "def get_from_site(session= session):\r\n",
        "  finish = False\r\n",
        "  page = 1\r\n",
        "  all_links = []\r\n",
        "  while not finish:\r\n",
        "    t = get_from_page(url+'?page={}'.format(page),session)\r\n",
        "    if (len(t) > 0 ):\r\n",
        "      page += 1\r\n",
        "      all_links.extend(t)\r\n",
        "    else: \r\n",
        "      finish = True\r\n",
        "  return all_links\r\n",
        "\r\n"
      ],
      "execution_count": 9,
      "outputs": []
    },
    {
      "cell_type": "code",
      "metadata": {
        "colab": {
          "base_uri": "https://localhost:8080/"
        },
        "id": "5gXZ9Z8DUKBQ",
        "outputId": "6db44b9a-66a4-4ba5-c9b5-0d95cbd7ad8c"
      },
      "source": [
        "all_links =get_from_site()\r\n",
        "len(all_links)\r\n"
      ],
      "execution_count": 10,
      "outputs": [
        {
          "output_type": "execute_result",
          "data": {
            "text/plain": [
              "102"
            ]
          },
          "metadata": {
            "tags": []
          },
          "execution_count": 10
        }
      ]
    },
    {
      "cell_type": "code",
      "metadata": {
        "id": "smt0oJtcUwsB"
      },
      "source": [
        ""
      ],
      "execution_count": 10,
      "outputs": []
    },
    {
      "cell_type": "markdown",
      "metadata": {
        "id": "XzJXO5ZyVZ34"
      },
      "source": [
        "### get_from_product()\r\n",
        "scrawl from a product"
      ]
    },
    {
      "cell_type": "code",
      "metadata": {
        "colab": {
          "base_uri": "https://localhost:8080/",
          "height": 35
        },
        "id": "HCqi9eIiVhOC",
        "outputId": "d7b9c384-4388-4eeb-f321-c7c5b7b53705"
      },
      "source": [
        "product = all_links[0]\r\n",
        "product"
      ],
      "execution_count": 11,
      "outputs": [
        {
          "output_type": "execute_result",
          "data": {
            "application/vnd.google.colaboratory.intrinsic+json": {
              "type": "string"
            },
            "text/plain": [
              "'https://gearvn.com/products/laptop-hp-envy-13-ba1028tu-2k0b2pa'"
            ]
          },
          "metadata": {
            "tags": []
          },
          "execution_count": 11
        }
      ]
    },
    {
      "cell_type": "code",
      "metadata": {
        "colab": {
          "base_uri": "https://localhost:8080/"
        },
        "id": "q-cWAvTyVsiO",
        "outputId": "3cc166ec-e8d0-42e6-f335-ceda24e17c7c"
      },
      "source": [
        "r = session.get('https://gearvn.com/products/laptop-gaming-asus-rog-zephyrus-m-gu502gv-az079t')\r\n",
        "\r\n",
        "text = r.html.find('.product_parameters')[0].find('p')[0].text.split(\"\\n\")\r\n",
        "text = [t.split(':') for t in text]\r\n",
        "text\r\n",
        "\r\n",
        "\r\n",
        "  "
      ],
      "execution_count": 177,
      "outputs": [
        {
          "output_type": "execute_result",
          "data": {
            "text/plain": [
              "[['Nhà sản xuất\\xa0', ' Asus'],\n",
              " ['Xuất xứ\\xa0', ' Chính hãng'],\n",
              " ['Bảo hành\\xa0', ' 24 Tháng'],\n",
              " ['Tình trạng\\xa0', ' Mới 100%'],\n",
              " ['Màu sắc', '\\xa0Black'],\n",
              " [''],\n",
              " [''],\n",
              " [''],\n",
              " ['Quà tặng', ''],\n",
              " [''],\n",
              " ['★\\xa0Túi chống shock Gearvn\\xa0trị giá\\xa0139.000 VNĐ'],\n",
              " [''],\n",
              " [''],\n",
              " [''],\n",
              " ['Default Title'],\n",
              " ['36,990,000₫'],\n",
              " ['- +'],\n",
              " ['(Vui lòng chọn số lượng trước khi mua hàng)'],\n",
              " ['Giá Cũ', ''],\n",
              " ['46,990,000₫'],\n",
              " [''],\n",
              " ['Giá KM', '36,990,000₫'],\n",
              " ['Đặt hàng']]"
            ]
          },
          "metadata": {
            "tags": []
          },
          "execution_count": 177
        }
      ]
    },
    {
      "cell_type": "code",
      "metadata": {
        "colab": {
          "base_uri": "https://localhost:8080/",
          "height": 66,
          "referenced_widgets": [
            "766dfffa29b34bcd8f7a94c4d17e4b4f",
            "65e6d6e9110a41aea9a70ca4f9ffd134",
            "8d420a3ea9d449d580ada1f41973b5ab",
            "e99164a63684460aa02c9eb77fd21b92",
            "e5e92c08386e4117b2e9b7f643d9f577",
            "713ad4fa80a5465993e8a67eb10a16d8",
            "c8e1d3b8c534404aa974c61b92e429b9",
            "f499fc56b06d4b66ab56f1fa5a6f589f",
            "0affd3408f864a3c939172195e63c4a4",
            "772548497d694c4bbf353a8c42015cf8",
            "3dd6673d4af849a581fd821d5e3e4916"
          ]
        },
        "id": "_GMbU_sOV0Du",
        "outputId": "08c4638e-cc43-4ddf-83db-add73b197fed"
      },
      "source": [
        "products = [] \r\n",
        "bar = tqdm(all_links,total = len(all_links))\r\n",
        "for product in bar:\r\n",
        "  r = session.get(product)\r\n",
        "  product_dictionary = {}\r\n",
        "\r\n",
        "  # get general atributes\r\n",
        "  general_attributes = r.html.find('table>tbody',first=True).find('tr')\r\n",
        "  for attr in general_attributes:   \r\n",
        "    if len(attr.find('td')) == 2 :\r\n",
        "      product_dictionary[attr.find('td')[0].text] = attr.find('td')[1].text \r\n",
        "                                             \r\n",
        "\r\n",
        "\r\n",
        "  # get product parameter\r\n",
        "  text = r.html.find('.product_parameters')[0].find('p')[0].text.split(\"\\n\")\r\n",
        "  text = [t.split(':') for t in text]\r\n",
        "  for i,t in enumerate(text):\r\n",
        "    if t[0] == 'Giá Cũ':\r\n",
        "      product_dictionary['Giá Cũ'] = text[i+1][0]      \r\n",
        "    elif len(t) == 2:\r\n",
        "      product_dictionary[t[0]] = t[1]\r\n",
        "\r\n",
        "\r\n",
        "  products.append(product_dictionary)"
      ],
      "execution_count": 210,
      "outputs": [
        {
          "output_type": "display_data",
          "data": {
            "application/vnd.jupyter.widget-view+json": {
              "model_id": "766dfffa29b34bcd8f7a94c4d17e4b4f",
              "version_minor": 0,
              "version_major": 2
            },
            "text/plain": [
              "HBox(children=(HTML(value=''), FloatProgress(value=0.0, max=102.0), HTML(value='')))"
            ]
          },
          "metadata": {
            "tags": []
          }
        },
        {
          "output_type": "stream",
          "text": [
            "\n"
          ],
          "name": "stdout"
        }
      ]
    },
    {
      "cell_type": "code",
      "metadata": {
        "colab": {
          "base_uri": "https://localhost:8080/",
          "height": 35
        },
        "id": "bA3W9QKlV1Kn",
        "outputId": "88da50c4-4cca-43aa-9f0b-71861a5bd0a4"
      },
      "source": [
        ""
      ],
      "execution_count": 213,
      "outputs": [
        {
          "output_type": "execute_result",
          "data": {
            "application/vnd.google.colaboratory.intrinsic+json": {
              "type": "string"
            },
            "text/plain": [
              "''"
            ]
          },
          "metadata": {
            "tags": []
          },
          "execution_count": 213
        }
      ]
    },
    {
      "cell_type": "code",
      "metadata": {
        "colab": {
          "base_uri": "https://localhost:8080/",
          "height": 35
        },
        "id": "-tOCUB4XXzTW",
        "outputId": "a4505f0c-eb77-4da8-e93f-61f7ea299345"
      },
      "source": [
        "all_links[16]"
      ],
      "execution_count": 191,
      "outputs": [
        {
          "output_type": "execute_result",
          "data": {
            "application/vnd.google.colaboratory.intrinsic+json": {
              "type": "string"
            },
            "text/plain": [
              "'https://gearvn.com/products/lenovo-thinkbook-14-20rv00b8vn'"
            ]
          },
          "metadata": {
            "tags": []
          },
          "execution_count": 191
        }
      ]
    },
    {
      "cell_type": "code",
      "metadata": {
        "colab": {
          "base_uri": "https://localhost:8080/"
        },
        "id": "16shVWUbX0dt",
        "outputId": "adcb23d2-9429-4ddd-ceee-a8e07d3edb45"
      },
      "source": [
        "import codecs\r\n",
        "codecs.encode(text[7][0][0])"
      ],
      "execution_count": 173,
      "outputs": [
        {
          "output_type": "execute_result",
          "data": {
            "text/plain": [
              "b'\\xf0\\x9f\\x8e\\x81'"
            ]
          },
          "metadata": {
            "tags": []
          },
          "execution_count": 173
        }
      ]
    },
    {
      "cell_type": "code",
      "metadata": {
        "id": "jjqtvVM5Z9Eg"
      },
      "source": [
        ""
      ],
      "execution_count": 210,
      "outputs": []
    },
    {
      "cell_type": "code",
      "metadata": {
        "colab": {
          "base_uri": "https://localhost:8080/",
          "height": 35
        },
        "id": "WT2NWAhch1t_",
        "outputId": "81c15929-523d-4dff-cc33-123d96085476"
      },
      "source": [
        ""
      ],
      "execution_count": 105,
      "outputs": [
        {
          "output_type": "execute_result",
          "data": {
            "application/vnd.google.colaboratory.intrinsic+json": {
              "type": "string"
            },
            "text/plain": [
              "'Chính hãng'"
            ]
          },
          "metadata": {
            "tags": []
          },
          "execution_count": 105
        }
      ]
    },
    {
      "cell_type": "code",
      "metadata": {
        "id": "Q5ED1doDbqWH"
      },
      "source": [
        ""
      ],
      "execution_count": null,
      "outputs": []
    }
  ]
}